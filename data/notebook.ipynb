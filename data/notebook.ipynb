{
 "cells": [
  {
   "cell_type": "markdown",
   "id": "89415458",
   "metadata": {},
   "source": [
    "# Lastkajen\n",
    "# Telia OD csv\n",
    "# Real Network\n",
    "\n",
    "\"\"\"\n",
    "    Carga datos de tráfico desde un archivo pickle y construye un objeto Data de PyTorch Geometric.\n",
    "\n",
    "    El archivo pickle debe contener un diccionario con claves 'nodes' y 'links' que incluyen:\n",
    "      - nodes: 'node.ids', 'node.type', 'node.coordinates', 'node.demand'\n",
    "      - links: 'link.ids', 'link.type', 'link.ij', 'link.observed_flow'\n",
    "\n",
    "    Se buscan el archivo en múltiples rutas si es necesario.\n",
    "\n",
    "    Args:\n",
    "        pickle_name (str): Ruta relativa del archivo pickle (p.ej., \"data/traffic_data_10.pkl\").\n",
    "\n",
    "    Returns:\n",
    "        Data: Objeto PyTorch Geometric con atributos:\n",
    "            - x: tensor de características [num_nodes, 4] (ej. [is_zat, is_intersection, gen, attr]).\n",
    "            - edge_index: tensor de aristas [2, num_edges].\n",
    "            - observed_flow_indices, observed_flow_values: tensores para flujos observados.\n",
    "            - node_coordinates: lista de coordenadas para visualización.\n",
    "            - node_types: lista de tipos de nodo.\n",
    "            - zat_demands: diccionario con demandas de nodos ZAT.\n",
    "            - node_id_map_rev: mapeo índice -> ID de nodo.\n",
    "            - node_id_to_index: mapeo ID -> índice.\n",
    "            - link_types: lista de tipos de enlace.\n",
    "            - in_edges_idx_tonode, out_edges_idx_tonode: listas con índices de aristas entrantes/salientes por nodo.\n",
    "    Raises:\n",
    "        FileNotFoundError: Si no se encuentra el archivo pickle.\n",
    "    \"\"\"\n",
    "\n",
    "\n",
    "x = \n",
    "[\n",
    "    is zat, is_virtual_zat, is_intersection, is_virtual_intersection, gen, attr\n",
    "]\n",
    "\n",
    "edge_index = \n",
    "[\n",
    "    [i1, i2,...],\n",
    "    [j1, j2,...]\n",
    "]\n",
    "\n",
    "observed_flow = \n",
    "[\n",
    "    1, 2, 10, 40,...\n",
    "]\n",
    "\n",
    "node_coordinates =\n",
    "[\n",
    "    (xi, yi) or [[x1, x2],[y1, y2]]\n",
    "]\n",
    "\n",
    "node_types = {\n",
    "    is zat: [1, 3,...],\n",
    "    is_virtual_zat: [2, 4,...],\n",
    "    is_intersection: [6, 10,...],\n",
    "    is_virtual_intersection: [5, 7, 8,...]}\n",
    "\n",
    "zat_demands = [(1, 20, 50), (2, 50, 20)]\n",
    "\n",
    "link_types = {\n",
    "    is_logic: [1, 3,...],\n",
    "    is_virtual: [2, 4,...],\n",
    "    is_road: [6, 10,...]}"
   ]
  },
  {
   "cell_type": "code",
   "execution_count": 7,
   "id": "333bfee4",
   "metadata": {},
   "outputs": [],
   "source": [
    "import pickle\n",
    "# Cargar el archivo pickle\n",
    "with open(\"traffic_data_2.pkl\", \"rb\") as file:\n",
    "    data = pickle.load(file)"
   ]
  },
  {
   "cell_type": "code",
   "execution_count": 8,
   "id": "48658315",
   "metadata": {},
   "outputs": [
    {
     "data": {
      "text/plain": [
       "dict_keys(['config', 'nodes_features', 'links_topology', 'od_matrix', 'observed_flows', 'results_df', 'node_ids', 'link_ids'])"
      ]
     },
     "execution_count": 8,
     "metadata": {},
     "output_type": "execute_result"
    }
   ],
   "source": [
    "# Imprimir las claves del diccionario\n",
    "data.keys()"
   ]
  },
  {
   "cell_type": "markdown",
   "id": "e348dd19",
   "metadata": {},
   "source": [
    "Columnas: dict_keys(['config', 'nodes_features', 'links_topology', 'od_matrix', 'observed_flows', 'results_df', 'node_ids', 'link_ids'])"
   ]
  },
  {
   "cell_type": "code",
   "execution_count": 9,
   "id": "3e0db894",
   "metadata": {},
   "outputs": [
    {
     "name": "stdout",
     "output_type": "stream",
     "text": [
      "Formato de 'config': <class 'dict'>\n",
      "Formato de 'nodes_features': <class 'numpy.ndarray'>\n",
      "Formato de 'links_topology': <class 'numpy.ndarray'>\n",
      "Formato de 'od_matrix': <class 'numpy.ndarray'>\n",
      "Formato de 'observed_flows': <class 'numpy.ndarray'>\n",
      "Formato de 'results_df': <class 'pandas.core.frame.DataFrame'>\n",
      "Formato de 'node_ids': <class 'numpy.ndarray'>\n",
      "Formato de 'link_ids': <class 'numpy.ndarray'>\n"
     ]
    }
   ],
   "source": [
    "# Imprimir el tipo de cada columna\n",
    "for key in data.keys():\n",
    "    print(f\"Formato de '{key}': {type(data[key])}\")"
   ]
  },
  {
   "cell_type": "code",
   "execution_count": 10,
   "id": "597f41f7",
   "metadata": {},
   "outputs": [
    {
     "name": "stdout",
     "output_type": "stream",
     "text": [
      "Muestra de 'config': {'num_nodes': 5, 'demand_range': (1, 10), 'completeness': 50, 'coverage': 30, 'flow_range': (1, 50), 'seed_network': 123, 'seed_observed': 456}\n",
      "Muestra de 'nodes_features': [[15  7]\n",
      " [23 16]\n",
      " [14 22]\n",
      " [20 26]\n",
      " [ 9 10]]\n",
      "Muestra de 'links_topology': [[0 2]\n",
      " [2 0]\n",
      " [0 3]\n",
      " [3 1]\n",
      " [4 2]\n",
      " [4 3]\n",
      " [4 0]\n",
      " [0 1]\n",
      " [1 3]\n",
      " [3 4]]\n",
      "Muestra de 'od_matrix': [[ 0  1  3]\n",
      " [ 0  2  3]\n",
      " [ 0  3  7]\n",
      " [ 0  4  2]\n",
      " [ 1  0  4]\n",
      " [ 1  2 10]\n",
      " [ 1  3  7]\n",
      " [ 1  4  2]\n",
      " [ 2  0  1]\n",
      " [ 2  1  2]\n",
      " [ 2  3 10]\n",
      " [ 2  4  1]\n",
      " [ 3  0  1]\n",
      " [ 3  1 10]\n",
      " [ 3  2  4]\n",
      " [ 3  4  5]\n",
      " [ 4  0  1]\n",
      " [ 4  1  1]\n",
      " [ 4  2  5]\n",
      " [ 4  3  2]]\n",
      "Muestra de 'observed_flows': [[ 0  1 25]\n",
      " [ 3  4 42]\n",
      " [ 4  0  3]]\n",
      "Muestra de 'results_df':    origin  dest  estimated_flow  observed_flow\n",
      "0       0     2             3.0            NaN\n",
      "1       2     0            17.0            NaN\n",
      "2       0     3             0.0            NaN\n",
      "3       3     1            11.0            NaN\n",
      "4       4     2            22.0            NaN\n",
      "5       4     3            16.0            NaN\n",
      "6       4     0             3.0            3.0\n",
      "7       0     1            25.0           25.0\n",
      "8       1     3            43.0            NaN\n",
      "9       3     4            42.0           42.0\n",
      "Muestra de 'node_ids': [0 1 2 3 4]\n",
      "Muestra de 'link_ids': [[0 2]\n",
      " [2 0]\n",
      " [0 3]\n",
      " [3 1]\n",
      " [4 2]\n",
      " [4 3]\n",
      " [4 0]\n",
      " [0 1]\n",
      " [1 3]\n",
      " [3 4]]\n"
     ]
    }
   ],
   "source": [
    "# Mostrar una muestra pequeña de cada variable\n",
    "for key in data.keys():\n",
    "    print(f\"Muestra de '{key}':\", data[key][:5] if isinstance(data[key], list) else data[key])"
   ]
  },
  {
   "cell_type": "code",
   "execution_count": null,
   "id": "e2573e03",
   "metadata": {},
   "outputs": [],
   "source": []
  },
  {
   "cell_type": "markdown",
   "id": "7bd0845a",
   "metadata": {},
   "source": [
    "Muestra de 'nodes_features': [[15  7]\n",
    " [23 16]\n",
    " [14 22]\n",
    " [20 26]\n",
    " [ 9 10]]\n",
    "\n",
    "nodes_features: salidas, entradas"
   ]
  },
  {
   "cell_type": "markdown",
   "id": "2db7666f",
   "metadata": {},
   "source": [
    "Muestra de 'links_topology': [[0 2]\n",
    " [2 0]\n",
    " [0 3]\n",
    " [3 1]\n",
    " [4 2]\n",
    " [4 3]\n",
    " [4 0]\n",
    " [0 1]\n",
    " [1 3]\n",
    " [3 4]]\n",
    "\n",
    " links_topology: INODE JNODE\n"
   ]
  },
  {
   "cell_type": "markdown",
   "id": "47c1fc82",
   "metadata": {},
   "source": [
    "Muestra de 'od_matrix': [[ 0  1  3]\n",
    " [ 0  2  3]\n",
    " [ 0  3  7]\n",
    " [ 0  4  2]\n",
    " [ 1  0  4]\n",
    " [ 1  2 10]\n",
    " [ 1  3  7]\n",
    " [ 1  4  2]\n",
    " [ 2  0  1]\n",
    " [ 2  1  2]\n",
    " [ 2  3 10]\n",
    " [ 2  4  1]\n",
    " [ 3  0  1]\n",
    " [ 3  1 10]\n",
    " [ 3  2  4]\n",
    " [ 3  4  5]\n",
    " [ 4  0  1]\n",
    " [ 4  1  1]\n",
    " [ 4  2  5]\n",
    " [ 4  3  2]]\n",
    "\n",
    " ODM = origin_zone, destination, people (NAME get ID) OVER THE TIME\n"
   ]
  },
  {
   "cell_type": "markdown",
   "id": "498b9fd7",
   "metadata": {},
   "source": [
    "Muestra de 'observed_flows': [[ 0  1 25]\n",
    " [ 3  4 42]\n",
    " [ 4  0  3]]\n",
    "\n",
    " INODE, JNODE, get Adt_axel_par == 'Stickprovsmätning', OVER THE YEARS"
   ]
  },
  {
   "cell_type": "markdown",
   "id": "3b1e0970",
   "metadata": {},
   "source": [
    "Muestra de 'results_df':    origin  dest  estimated_flow  observed_flow\n",
    "0       0     2             3.0            NaN\n",
    "1       2     0            17.0            NaN\n",
    "2       0     3             0.0            NaN\n",
    "3       3     1            11.0            NaN\n",
    "4       4     2            22.0            NaN\n",
    "5       4     3            16.0            NaN\n",
    "6       4     0             3.0            3.0\n",
    "7       0     1            25.0           25.0\n",
    "8       1     3            43.0            NaN\n",
    "9       3     4            42.0           42.0\n",
    "\n",
    "???"
   ]
  },
  {
   "cell_type": "markdown",
   "id": "ce0c5fa4",
   "metadata": {},
   "source": [
    "Muestra de 'node_ids': [0 1 2 3 4]\n",
    "\n",
    "\n",
    "nodes_ids = nodos['ID']"
   ]
  },
  {
   "cell_type": "markdown",
   "id": "b7639da0",
   "metadata": {},
   "source": [
    "Muestra de 'link_ids': [[0 2]\n",
    " [2 0]\n",
    " [0 3]\n",
    " [3 1]\n",
    " [4 2]\n",
    " [4 3]\n",
    " [4 0]\n",
    " [0 1]\n",
    " [1 3]\n",
    " [3 4]]\n",
    "\n",
    " LINKS INODE, JNODE"
   ]
  }
 ],
 "metadata": {
  "kernelspec": {
   "display_name": ".venv",
   "language": "python",
   "name": "python3"
  },
  "language_info": {
   "codemirror_mode": {
    "name": "ipython",
    "version": 3
   },
   "file_extension": ".py",
   "mimetype": "text/x-python",
   "name": "python",
   "nbconvert_exporter": "python",
   "pygments_lexer": "ipython3",
   "version": "3.13.1"
  }
 },
 "nbformat": 4,
 "nbformat_minor": 5
}
